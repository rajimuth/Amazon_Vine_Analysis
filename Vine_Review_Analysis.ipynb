{
  "nbformat": 4,
  "nbformat_minor": 0,
  "metadata": {
    "colab": {
      "name": "Vine_Review_Analysis.ipynb",
      "provenance": [],
      "collapsed_sections": []
    },
    "kernelspec": {
      "name": "python3",
      "display_name": "Python 3"
    },
    "language_info": {
      "name": "python"
    }
  },
  "cells": [
    {
      "cell_type": "code",
      "metadata": {
        "id": "V58rxea0HqSa",
        "colab": {
          "base_uri": "https://localhost:8080/"
        },
        "outputId": "3e911cfc-b207-4a1b-be6f-a13cfa7cdf13"
      },
      "source": [
        "import os\n",
        "# Find the latest version of spark 3.0 from http://www.apache.org/dist/spark/ and enter as the spark version\n",
        "# For example:\n",
        "# spark_version = 'spark-3.0.3'\n",
        "spark_version = 'spark-3.0.3'\n",
        "os.environ['SPARK_VERSION']=spark_version\n",
        "\n",
        "# Install Spark and Java\n",
        "!apt-get update\n",
        "!apt-get install openjdk-11-jdk-headless -qq > /dev/null\n",
        "!wget -q http://www.apache.org/dist/spark/$SPARK_VERSION/$SPARK_VERSION-bin-hadoop2.7.tgz\n",
        "!tar xf $SPARK_VERSION-bin-hadoop2.7.tgz\n",
        "!pip install -q findspark\n",
        "\n",
        "# Set Environment Variables\n",
        "import os\n",
        "os.environ[\"JAVA_HOME\"] = \"/usr/lib/jvm/java-11-openjdk-amd64\"\n",
        "os.environ[\"SPARK_HOME\"] = f\"/content/{spark_version}-bin-hadoop2.7\"\n",
        "\n",
        "# Start a SparkSession\n",
        "import findspark\n",
        "findspark.init()"
      ],
      "execution_count": 1,
      "outputs": [
        {
          "output_type": "stream",
          "name": "stdout",
          "text": [
            "\r0% [Working]\r            \rIgn:1 https://developer.download.nvidia.com/compute/cuda/repos/ubuntu1804/x86_64  InRelease\n",
            "\r0% [Connecting to archive.ubuntu.com] [Connecting to security.ubuntu.com (185.1\r                                                                               \rGet:2 https://cloud.r-project.org/bin/linux/ubuntu bionic-cran40/ InRelease [3,626 B]\n",
            "\r0% [Connecting to archive.ubuntu.com] [Connecting to security.ubuntu.com (185.1\r0% [Connecting to archive.ubuntu.com] [Connecting to security.ubuntu.com (185.1\r                                                                               \rIgn:3 https://developer.download.nvidia.com/compute/machine-learning/repos/ubuntu1804/x86_64  InRelease\n",
            "Get:4 https://developer.download.nvidia.com/compute/cuda/repos/ubuntu1804/x86_64  Release [696 B]\n",
            "Hit:5 https://developer.download.nvidia.com/compute/machine-learning/repos/ubuntu1804/x86_64  Release\n",
            "Get:6 https://developer.download.nvidia.com/compute/cuda/repos/ubuntu1804/x86_64  Release.gpg [836 B]\n",
            "Get:7 http://security.ubuntu.com/ubuntu bionic-security InRelease [88.7 kB]\n",
            "Get:8 http://ppa.launchpad.net/c2d4u.team/c2d4u4.0+/ubuntu bionic InRelease [15.9 kB]\n",
            "Hit:9 http://archive.ubuntu.com/ubuntu bionic InRelease\n",
            "Get:10 http://archive.ubuntu.com/ubuntu bionic-updates InRelease [88.7 kB]\n",
            "Get:12 http://archive.ubuntu.com/ubuntu bionic-backports InRelease [74.6 kB]\n",
            "Hit:13 http://ppa.launchpad.net/cran/libgit2/ubuntu bionic InRelease\n",
            "Get:14 http://ppa.launchpad.net/deadsnakes/ppa/ubuntu bionic InRelease [15.9 kB]\n",
            "Get:15 https://developer.download.nvidia.com/compute/cuda/repos/ubuntu1804/x86_64  Packages [953 kB]\n",
            "Hit:16 http://ppa.launchpad.net/graphics-drivers/ppa/ubuntu bionic InRelease\n",
            "Get:17 http://ppa.launchpad.net/c2d4u.team/c2d4u4.0+/ubuntu bionic/main Sources [1,947 kB]\n",
            "Get:18 http://archive.ubuntu.com/ubuntu bionic-updates/main amd64 Packages [3,134 kB]\n",
            "Get:19 http://archive.ubuntu.com/ubuntu bionic-updates/universe amd64 Packages [2,268 kB]\n",
            "Get:20 http://ppa.launchpad.net/c2d4u.team/c2d4u4.0+/ubuntu bionic/main amd64 Packages [996 kB]\n",
            "Get:21 http://security.ubuntu.com/ubuntu bionic-security/universe amd64 Packages [1,490 kB]\n",
            "Get:22 http://security.ubuntu.com/ubuntu bionic-security/main amd64 Packages [2,695 kB]\n",
            "Get:23 http://ppa.launchpad.net/deadsnakes/ppa/ubuntu bionic/main amd64 Packages [45.3 kB]\n",
            "Fetched 13.8 MB in 7s (2,014 kB/s)\n",
            "Reading package lists... Done\n"
          ]
        }
      ]
    },
    {
      "cell_type": "code",
      "metadata": {
        "id": "_xKwTpATHqSe",
        "colab": {
          "base_uri": "https://localhost:8080/"
        },
        "outputId": "4ef383f1-37d2-4cc9-aac1-6e09fb017e99"
      },
      "source": [
        "# Download the Postgres driver that will allow Spark to interact with Postgres.\n",
        "!wget https://jdbc.postgresql.org/download/postgresql-42.2.16.jar"
      ],
      "execution_count": 2,
      "outputs": [
        {
          "output_type": "stream",
          "name": "stdout",
          "text": [
            "--2022-04-18 01:57:56--  https://jdbc.postgresql.org/download/postgresql-42.2.16.jar\n",
            "Resolving jdbc.postgresql.org (jdbc.postgresql.org)... 72.32.157.228, 2001:4800:3e1:1::228\n",
            "Connecting to jdbc.postgresql.org (jdbc.postgresql.org)|72.32.157.228|:443... connected.\n",
            "HTTP request sent, awaiting response... 200 OK\n",
            "Length: 1002883 (979K) [application/java-archive]\n",
            "Saving to: ‘postgresql-42.2.16.jar’\n",
            "\n",
            "postgresql-42.2.16. 100%[===================>] 979.38K  5.95MB/s    in 0.2s    \n",
            "\n",
            "2022-04-18 01:57:56 (5.95 MB/s) - ‘postgresql-42.2.16.jar’ saved [1002883/1002883]\n",
            "\n"
          ]
        }
      ]
    },
    {
      "cell_type": "code",
      "metadata": {
        "id": "MMqDAjVS0KN9"
      },
      "source": [
        "from pyspark.sql import SparkSession\n",
        "spark = SparkSession.builder.appName(\"M16-Amazon-Challenge\").config(\"spark.driver.extraClassPath\",\"/content/postgresql-42.2.16.jar\").getOrCreate()"
      ],
      "execution_count": 3,
      "outputs": []
    },
    {
      "cell_type": "code",
      "metadata": {
        "id": "CtCmBhQJY-9Z",
        "colab": {
          "base_uri": "https://localhost:8080/"
        },
        "outputId": "b0f1b462-8406-4758-912d-cf6f016a17ca"
      },
      "source": [
        "from pyspark import SparkFiles\n",
        "url = \"https://s3.amazonaws.com/amazon-reviews-pds/tsv/amazon_reviews_us_Kitchen_v1_00.tsv.gz\"\n",
        "spark.sparkContext.addFile(url)\n",
        "df = spark.read.option(\"encoding\", \"UTF-8\").csv(SparkFiles.get(\"\"), sep=\"\\t\", header=True, inferSchema=True)\n",
        "df.show()"
      ],
      "execution_count": 4,
      "outputs": [
        {
          "output_type": "stream",
          "name": "stdout",
          "text": [
            "+-----------+-----------+--------------+----------+--------------+--------------------+----------------+-----------+-------------+-----------+----+-----------------+--------------------+--------------------+-----------+\n",
            "|marketplace|customer_id|     review_id|product_id|product_parent|       product_title|product_category|star_rating|helpful_votes|total_votes|vine|verified_purchase|     review_headline|         review_body|review_date|\n",
            "+-----------+-----------+--------------+----------+--------------+--------------------+----------------+-----------+-------------+-----------+----+-----------------+--------------------+--------------------+-----------+\n",
            "|         US|   37000337|R3DT59XH7HXR9K|B00303FI0G|     529320574|Arthur Court Pape...|         Kitchen|          5|            0|          0|   N|                Y|Beautiful. Looks ...|Beautiful.  Looks...| 2015-08-31|\n",
            "|         US|   15272914|R1LFS11BNASSU8|B00JCZKZN6|     274237558|Olde Thompson Bav...|         Kitchen|          5|            0|          1|   N|                Y| Awesome & Self-ness|I personally have...| 2015-08-31|\n",
            "|         US|   36137863|R296RT05AG0AF6|B00JLIKA5C|     544675303|Progressive Inter...|         Kitchen|          5|            0|          0|   N|                Y|Fabulous and wort...|Fabulous and wort...| 2015-08-31|\n",
            "|         US|   43311049|R3V37XDZ7ZCI3L|B000GBNB8G|     491599489|Zyliss Jumbo Garl...|         Kitchen|          5|            0|          1|   N|                Y|          Five Stars|A must if you lov...| 2015-08-31|\n",
            "|         US|   13763148|R14GU232NQFYX2|B00VJ5KX9S|     353790155|1 X Premier Pizza...|         Kitchen|          5|            0|          0|   N|                Y|     Better than sex|Worth every penny...| 2015-08-31|\n",
            "|         US|   19009420| RZQH4V7L2O1PL|B00HYB5YY0|     432241873|       CHEF Aluminum|         Kitchen|          1|            1|          1|   N|                Y|Does not work on ...|The description s...| 2015-08-31|\n",
            "|         US|   40599388|R1F8JMOSPJ3KO7|B000HEBAV2|     584680984|Presto Dual Profr...|         Kitchen|          5|            0|          0|   N|                Y|Awesome! First fr...|Awesome! First fr...| 2015-08-31|\n",
            "|         US|   22719359|R1ZISGY2BWW4Z5|B0012DS4GG|     772637306|Rubbermaid Produc...|         Kitchen|          5|            0|          0|   N|                Y|          Five Stars|Very good item. Q...| 2015-08-31|\n",
            "|         US|   47478640|R17PW4I3AE5WZW|B00FLQ4EE6|     755416578|Cuisinart 12-Piec...|         Kitchen|          5|            0|          0|   N|                Y|          Five Stars|sharp and look great| 2015-08-31|\n",
            "|         US|   34195504|R3D93G1KTP6A8P|B00DBS9OTG|     648762742|Kegco 6\" Stainles...|         Kitchen|          3|            0|          0|   N|                Y|         Three Stars|Should have come ...| 2015-08-31|\n",
            "|         US|   19100570|R18TQIW1NKPUNU|B00AN9UJ68|     495720940|Cuisinart Smart S...|         Kitchen|          5|            0|          0|   N|                Y|          Five Stars|  my friend loves it| 2015-08-31|\n",
            "|         US|   10299811|R34KUNL21WU248|B00L2P0KNO|      41330497|Searzall Torch At...|         Kitchen|          4|            0|          0|   N|                Y|          Four Stars|works as expected...| 2015-08-31|\n",
            "|         US|   32687006|R2YA1ZA53X12IN|B00NQOJQXY|     191893454|Wilton 1512-1664 ...|         Kitchen|          5|            0|          0|   N|                Y|               great|               great| 2015-08-31|\n",
            "|         US|   43260893|R2ZD1IGC9UU55X|B00080QE1Q|     277442428|Magnalite Classic...|         Kitchen|          5|            1|          1|   N|                Y|         Great Pots!|Fantastic product...| 2015-08-31|\n",
            "|         US|    8067227| R9J2YMVZTUVZ7|B009VU17ZM|     414077276|Sun's Tea(TM) 20o...|         Kitchen|          5|            0|          0|   N|                Y|          Five Stars|Work great, well ...| 2015-08-31|\n",
            "|         US|   18139929|R2UUXJ0WQR0CNI|B00MY71KO2|     138697457|Adventure Time Be...|         Kitchen|          4|            0|          0|   N|                Y|              So big|holds a loooot of...| 2015-08-31|\n",
            "|         US|   12282702|R3S9QICITG73JZ|B00A6N18CK|      48180946|DecoBros 3 Tier D...|         Kitchen|          5|            0|          0|   N|                Y|It looks nice & n...|The DecoBros K cu...| 2015-08-31|\n",
            "|         US|   38649737|R3LISNJHS64PDA|B00AB8NOLS|      67759108|Brita Water Filte...|         Kitchen|          4|            0|          0|   N|                Y|          Four Stars| Met my expectations| 2015-08-31|\n",
            "|         US|   33460969|R28RB82UG4RDD5|B00FB4UPA0|      10711472|Nifty Home 24 K-C...|         Kitchen|          5|           20|         20|   N|                Y| Saves counter space|Fits under my ful...| 2015-08-31|\n",
            "|         US|   40274860|R3H0PRVII5991X|B00YMHBQ0A|     618617346|Eoonfirst Snoopy ...|         Kitchen|          5|            0|          0|   N|                Y|          Five Stars|            Love it!| 2015-08-31|\n",
            "+-----------+-----------+--------------+----------+--------------+--------------------+----------------+-----------+-------------+-----------+----+-----------------+--------------------+--------------------+-----------+\n",
            "only showing top 20 rows\n",
            "\n"
          ]
        }
      ]
    },
    {
      "cell_type": "code",
      "metadata": {
        "id": "C8REmY1aY-9u",
        "colab": {
          "base_uri": "https://localhost:8080/"
        },
        "outputId": "e898d70e-17e8-464d-b06d-a5060debdfe4"
      },
      "source": [
        "from pyspark.sql.functions import to_date\n",
        "# Read in the Review dataset as a DataFrame\n",
        "df.show()\n"
      ],
      "execution_count": 5,
      "outputs": [
        {
          "output_type": "stream",
          "name": "stdout",
          "text": [
            "+-----------+-----------+--------------+----------+--------------+--------------------+----------------+-----------+-------------+-----------+----+-----------------+--------------------+--------------------+-----------+\n",
            "|marketplace|customer_id|     review_id|product_id|product_parent|       product_title|product_category|star_rating|helpful_votes|total_votes|vine|verified_purchase|     review_headline|         review_body|review_date|\n",
            "+-----------+-----------+--------------+----------+--------------+--------------------+----------------+-----------+-------------+-----------+----+-----------------+--------------------+--------------------+-----------+\n",
            "|         US|   37000337|R3DT59XH7HXR9K|B00303FI0G|     529320574|Arthur Court Pape...|         Kitchen|          5|            0|          0|   N|                Y|Beautiful. Looks ...|Beautiful.  Looks...| 2015-08-31|\n",
            "|         US|   15272914|R1LFS11BNASSU8|B00JCZKZN6|     274237558|Olde Thompson Bav...|         Kitchen|          5|            0|          1|   N|                Y| Awesome & Self-ness|I personally have...| 2015-08-31|\n",
            "|         US|   36137863|R296RT05AG0AF6|B00JLIKA5C|     544675303|Progressive Inter...|         Kitchen|          5|            0|          0|   N|                Y|Fabulous and wort...|Fabulous and wort...| 2015-08-31|\n",
            "|         US|   43311049|R3V37XDZ7ZCI3L|B000GBNB8G|     491599489|Zyliss Jumbo Garl...|         Kitchen|          5|            0|          1|   N|                Y|          Five Stars|A must if you lov...| 2015-08-31|\n",
            "|         US|   13763148|R14GU232NQFYX2|B00VJ5KX9S|     353790155|1 X Premier Pizza...|         Kitchen|          5|            0|          0|   N|                Y|     Better than sex|Worth every penny...| 2015-08-31|\n",
            "|         US|   19009420| RZQH4V7L2O1PL|B00HYB5YY0|     432241873|       CHEF Aluminum|         Kitchen|          1|            1|          1|   N|                Y|Does not work on ...|The description s...| 2015-08-31|\n",
            "|         US|   40599388|R1F8JMOSPJ3KO7|B000HEBAV2|     584680984|Presto Dual Profr...|         Kitchen|          5|            0|          0|   N|                Y|Awesome! First fr...|Awesome! First fr...| 2015-08-31|\n",
            "|         US|   22719359|R1ZISGY2BWW4Z5|B0012DS4GG|     772637306|Rubbermaid Produc...|         Kitchen|          5|            0|          0|   N|                Y|          Five Stars|Very good item. Q...| 2015-08-31|\n",
            "|         US|   47478640|R17PW4I3AE5WZW|B00FLQ4EE6|     755416578|Cuisinart 12-Piec...|         Kitchen|          5|            0|          0|   N|                Y|          Five Stars|sharp and look great| 2015-08-31|\n",
            "|         US|   34195504|R3D93G1KTP6A8P|B00DBS9OTG|     648762742|Kegco 6\" Stainles...|         Kitchen|          3|            0|          0|   N|                Y|         Three Stars|Should have come ...| 2015-08-31|\n",
            "|         US|   19100570|R18TQIW1NKPUNU|B00AN9UJ68|     495720940|Cuisinart Smart S...|         Kitchen|          5|            0|          0|   N|                Y|          Five Stars|  my friend loves it| 2015-08-31|\n",
            "|         US|   10299811|R34KUNL21WU248|B00L2P0KNO|      41330497|Searzall Torch At...|         Kitchen|          4|            0|          0|   N|                Y|          Four Stars|works as expected...| 2015-08-31|\n",
            "|         US|   32687006|R2YA1ZA53X12IN|B00NQOJQXY|     191893454|Wilton 1512-1664 ...|         Kitchen|          5|            0|          0|   N|                Y|               great|               great| 2015-08-31|\n",
            "|         US|   43260893|R2ZD1IGC9UU55X|B00080QE1Q|     277442428|Magnalite Classic...|         Kitchen|          5|            1|          1|   N|                Y|         Great Pots!|Fantastic product...| 2015-08-31|\n",
            "|         US|    8067227| R9J2YMVZTUVZ7|B009VU17ZM|     414077276|Sun's Tea(TM) 20o...|         Kitchen|          5|            0|          0|   N|                Y|          Five Stars|Work great, well ...| 2015-08-31|\n",
            "|         US|   18139929|R2UUXJ0WQR0CNI|B00MY71KO2|     138697457|Adventure Time Be...|         Kitchen|          4|            0|          0|   N|                Y|              So big|holds a loooot of...| 2015-08-31|\n",
            "|         US|   12282702|R3S9QICITG73JZ|B00A6N18CK|      48180946|DecoBros 3 Tier D...|         Kitchen|          5|            0|          0|   N|                Y|It looks nice & n...|The DecoBros K cu...| 2015-08-31|\n",
            "|         US|   38649737|R3LISNJHS64PDA|B00AB8NOLS|      67759108|Brita Water Filte...|         Kitchen|          4|            0|          0|   N|                Y|          Four Stars| Met my expectations| 2015-08-31|\n",
            "|         US|   33460969|R28RB82UG4RDD5|B00FB4UPA0|      10711472|Nifty Home 24 K-C...|         Kitchen|          5|           20|         20|   N|                Y| Saves counter space|Fits under my ful...| 2015-08-31|\n",
            "|         US|   40274860|R3H0PRVII5991X|B00YMHBQ0A|     618617346|Eoonfirst Snoopy ...|         Kitchen|          5|            0|          0|   N|                Y|          Five Stars|            Love it!| 2015-08-31|\n",
            "+-----------+-----------+--------------+----------+--------------+--------------------+----------------+-----------+-------------+-----------+----+-----------------+--------------------+--------------------+-----------+\n",
            "only showing top 20 rows\n",
            "\n"
          ]
        }
      ]
    },
    {
      "cell_type": "code",
      "metadata": {
        "id": "lzMmkdKmY--D",
        "colab": {
          "base_uri": "https://localhost:8080/"
        },
        "outputId": "539f90f8-163e-45ab-85cc-a35c4efc6671"
      },
      "source": [
        "# Create the vine_table. DataFrame\n",
        "vine_df = df.select(['review_id','star_rating','helpful_votes','total_votes','vine','verified_purchase'])\n",
        "vine_df.show()"
      ],
      "execution_count": 6,
      "outputs": [
        {
          "output_type": "stream",
          "name": "stdout",
          "text": [
            "+--------------+-----------+-------------+-----------+----+-----------------+\n",
            "|     review_id|star_rating|helpful_votes|total_votes|vine|verified_purchase|\n",
            "+--------------+-----------+-------------+-----------+----+-----------------+\n",
            "|R3DT59XH7HXR9K|          5|            0|          0|   N|                Y|\n",
            "|R1LFS11BNASSU8|          5|            0|          1|   N|                Y|\n",
            "|R296RT05AG0AF6|          5|            0|          0|   N|                Y|\n",
            "|R3V37XDZ7ZCI3L|          5|            0|          1|   N|                Y|\n",
            "|R14GU232NQFYX2|          5|            0|          0|   N|                Y|\n",
            "| RZQH4V7L2O1PL|          1|            1|          1|   N|                Y|\n",
            "|R1F8JMOSPJ3KO7|          5|            0|          0|   N|                Y|\n",
            "|R1ZISGY2BWW4Z5|          5|            0|          0|   N|                Y|\n",
            "|R17PW4I3AE5WZW|          5|            0|          0|   N|                Y|\n",
            "|R3D93G1KTP6A8P|          3|            0|          0|   N|                Y|\n",
            "|R18TQIW1NKPUNU|          5|            0|          0|   N|                Y|\n",
            "|R34KUNL21WU248|          4|            0|          0|   N|                Y|\n",
            "|R2YA1ZA53X12IN|          5|            0|          0|   N|                Y|\n",
            "|R2ZD1IGC9UU55X|          5|            1|          1|   N|                Y|\n",
            "| R9J2YMVZTUVZ7|          5|            0|          0|   N|                Y|\n",
            "|R2UUXJ0WQR0CNI|          4|            0|          0|   N|                Y|\n",
            "|R3S9QICITG73JZ|          5|            0|          0|   N|                Y|\n",
            "|R3LISNJHS64PDA|          4|            0|          0|   N|                Y|\n",
            "|R28RB82UG4RDD5|          5|           20|         20|   N|                Y|\n",
            "|R3H0PRVII5991X|          5|            0|          0|   N|                Y|\n",
            "+--------------+-----------+-------------+-----------+----+-----------------+\n",
            "only showing top 20 rows\n",
            "\n"
          ]
        }
      ]
    },
    {
      "cell_type": "code",
      "source": [
        "# Load in a sql function to use columns\n",
        "from pyspark.sql.functions import col\n",
        "# Filter for only columns with active users\n",
        "vine_votes_greater_20_df = vine_df.filter(col(\"total_votes\") >=20)\n",
        "vine_votes_greater_20_df.show()\n"
      ],
      "metadata": {
        "colab": {
          "base_uri": "https://localhost:8080/"
        },
        "id": "zvyxhlci5s5O",
        "outputId": "81afa057-85e4-4034-e24e-b5d554c5e41d"
      },
      "execution_count": 15,
      "outputs": [
        {
          "output_type": "stream",
          "name": "stdout",
          "text": [
            "+--------------+-----------+-------------+-----------+----+-----------------+\n",
            "|     review_id|star_rating|helpful_votes|total_votes|vine|verified_purchase|\n",
            "+--------------+-----------+-------------+-----------+----+-----------------+\n",
            "|R28RB82UG4RDD5|          5|           20|         20|   N|                Y|\n",
            "|R3FB6BERWPEIJP|          4|           40|         43|   N|                Y|\n",
            "|R1D4Z38STRDQXK|          5|           53|         56|   N|                Y|\n",
            "|R1XMWJZICINIFX|          3|           20|         21|   N|                Y|\n",
            "|R20QKY1GABXFLM|          1|          272|        297|   N|                Y|\n",
            "|R3GZ7CK2O1PPG0|          2|           10|         30|   N|                Y|\n",
            "|R328FA1E6FY3F5|          5|           17|         20|   N|                N|\n",
            "|R3DH22AA5WGLLS|          5|           30|         30|   N|                N|\n",
            "|R1E0E5EFZSLJCS|          1|           66|         80|   N|                Y|\n",
            "|R1TXZQWEHYWEWN|          2|           48|         51|   N|                Y|\n",
            "| RQQAI8YL3UCY2|          5|           23|         25|   N|                Y|\n",
            "|R3PZNAQREFUNJ7|          4|           28|         35|   N|                Y|\n",
            "|R1ZUNUSUEA5D0T|          2|           17|         20|   N|                Y|\n",
            "|R3SHJSHTY8AXKR|          5|           69|         72|   N|                Y|\n",
            "|R2QM1JXA2XI7XA|          3|           61|         68|   N|                Y|\n",
            "|R1SVJ6XDBCQNSN|          3|           29|         30|   N|                Y|\n",
            "|R1IEABNX71GK3B|          1|           54|         58|   N|                N|\n",
            "|R16QL1GNQVT4G9|          5|          117|        119|   N|                Y|\n",
            "|R1MV4YDD6O5UME|          5|           30|         32|   N|                N|\n",
            "|R3A8EHXA0JX7WV|          5|           18|         24|   N|                N|\n",
            "+--------------+-----------+-------------+-----------+----+-----------------+\n",
            "only showing top 20 rows\n",
            "\n"
          ]
        }
      ]
    },
    {
      "cell_type": "code",
      "source": [
        "# Filter  to retrieve all the rows where the number of helpful_votes divided by total_votes is equal to or greater than 50%.\n",
        "vine_helpful_votes_df= vine_votes_greater_20_df.filter(vine_votes_greater_20_df[\"helpful_votes\"]/vine_votes_greater_20_df[\"total_votes\"]>= 0.5)\n",
        "vine_helpful_votes_df.show()"
      ],
      "metadata": {
        "colab": {
          "base_uri": "https://localhost:8080/"
        },
        "outputId": "b582152f-aee9-40b7-967b-f5992d2588f7",
        "id": "VPdKkXwebLOB"
      },
      "execution_count": 16,
      "outputs": [
        {
          "output_type": "stream",
          "name": "stdout",
          "text": [
            "+--------------+-----------+-------------+-----------+----+-----------------+\n",
            "|     review_id|star_rating|helpful_votes|total_votes|vine|verified_purchase|\n",
            "+--------------+-----------+-------------+-----------+----+-----------------+\n",
            "|R28RB82UG4RDD5|          5|           20|         20|   N|                Y|\n",
            "|R3FB6BERWPEIJP|          4|           40|         43|   N|                Y|\n",
            "|R1D4Z38STRDQXK|          5|           53|         56|   N|                Y|\n",
            "|R1XMWJZICINIFX|          3|           20|         21|   N|                Y|\n",
            "|R20QKY1GABXFLM|          1|          272|        297|   N|                Y|\n",
            "|R328FA1E6FY3F5|          5|           17|         20|   N|                N|\n",
            "|R3DH22AA5WGLLS|          5|           30|         30|   N|                N|\n",
            "|R1E0E5EFZSLJCS|          1|           66|         80|   N|                Y|\n",
            "|R1TXZQWEHYWEWN|          2|           48|         51|   N|                Y|\n",
            "| RQQAI8YL3UCY2|          5|           23|         25|   N|                Y|\n",
            "|R3PZNAQREFUNJ7|          4|           28|         35|   N|                Y|\n",
            "|R1ZUNUSUEA5D0T|          2|           17|         20|   N|                Y|\n",
            "|R3SHJSHTY8AXKR|          5|           69|         72|   N|                Y|\n",
            "|R2QM1JXA2XI7XA|          3|           61|         68|   N|                Y|\n",
            "|R1SVJ6XDBCQNSN|          3|           29|         30|   N|                Y|\n",
            "|R1IEABNX71GK3B|          1|           54|         58|   N|                N|\n",
            "|R16QL1GNQVT4G9|          5|          117|        119|   N|                Y|\n",
            "|R1MV4YDD6O5UME|          5|           30|         32|   N|                N|\n",
            "|R3A8EHXA0JX7WV|          5|           18|         24|   N|                N|\n",
            "|R2M7TEVV9YSLTR|          5|           94|         96|   N|                Y|\n",
            "+--------------+-----------+-------------+-----------+----+-----------------+\n",
            "only showing top 20 rows\n",
            "\n"
          ]
        }
      ]
    },
    {
      "cell_type": "code",
      "source": [
        "# Filter to retrieve all the rows where a review was written as part of the Vine program (paid), vine == 'Y'.\n",
        "vine_yes_df = vine_helpful_votes_df.filter(col(\"vine\")=='Y')\n",
        "vine_yes_df.show()"
      ],
      "metadata": {
        "colab": {
          "base_uri": "https://localhost:8080/"
        },
        "id": "80uHyXgkZQLW",
        "outputId": "b2db89f7-14ff-4b3f-8bf2-a3781bcea688"
      },
      "execution_count": 17,
      "outputs": [
        {
          "output_type": "stream",
          "name": "stdout",
          "text": [
            "+--------------+-----------+-------------+-----------+----+-----------------+\n",
            "|     review_id|star_rating|helpful_votes|total_votes|vine|verified_purchase|\n",
            "+--------------+-----------+-------------+-----------+----+-----------------+\n",
            "|R1Z71RW4J9IK93|          5|           20|         22|   Y|                N|\n",
            "|R3FVB5QI11KI9Q|          4|          192|        200|   Y|                N|\n",
            "|R2G027YBMVXV6Y|          5|           39|         48|   Y|                N|\n",
            "|R1QGBAN7BMGWRR|          5|          121|        129|   Y|                N|\n",
            "|R2NH2AU7XL9ZDZ|          3|           18|         20|   Y|                N|\n",
            "|R2YVVJ9NOPNX50|          4|           36|         41|   Y|                N|\n",
            "|R1XH1LK1FWX3OS|          4|          214|        238|   Y|                N|\n",
            "|R38LSQ71G2IZGS|          5|           26|         29|   Y|                N|\n",
            "|R2FLITQVKWXDF4|          3|           26|         34|   Y|                N|\n",
            "|R25LMMZF3DJTWY|          2|           18|         21|   Y|                N|\n",
            "|R18NC69T0KEC00|          5|           20|         23|   Y|                N|\n",
            "| ROYYZ0D9LMYS3|          5|           25|         33|   Y|                N|\n",
            "|R223CE6ERRBPRZ|          4|           82|         87|   Y|                N|\n",
            "|R1THPHKHO1BPRZ|          5|           15|         20|   Y|                N|\n",
            "|R11K4PQS62ROLS|          5|           72|         75|   Y|                N|\n",
            "| R6AZL5SA22ITL|          1|           66|         70|   Y|                N|\n",
            "| R4J2O4EHK73PR|          3|           46|         63|   Y|                N|\n",
            "| RMBQSVTJWY2A2|          5|           26|         28|   Y|                N|\n",
            "| RXLOQIB7S4OKN|          5|           31|         33|   Y|                N|\n",
            "| RLG9MEHTAGWL6|          5|           57|         63|   Y|                N|\n",
            "+--------------+-----------+-------------+-----------+----+-----------------+\n",
            "only showing top 20 rows\n",
            "\n"
          ]
        }
      ]
    },
    {
      "cell_type": "code",
      "source": [
        "# Filter to retrieve all the rows where a review was written as part of the Vine program (notpaid), vine == 'N'.\n",
        "vine_no_df = vine_helpful_votes_df.filter(col(\"vine\")=='N')\n",
        "vine_no_df.show()"
      ],
      "metadata": {
        "colab": {
          "base_uri": "https://localhost:8080/"
        },
        "id": "P1Do9OErc6Lk",
        "outputId": "a621fd8d-a77b-404d-f8e6-fef92e8b18b7"
      },
      "execution_count": 18,
      "outputs": [
        {
          "output_type": "stream",
          "name": "stdout",
          "text": [
            "+--------------+-----------+-------------+-----------+----+-----------------+\n",
            "|     review_id|star_rating|helpful_votes|total_votes|vine|verified_purchase|\n",
            "+--------------+-----------+-------------+-----------+----+-----------------+\n",
            "|R28RB82UG4RDD5|          5|           20|         20|   N|                Y|\n",
            "|R3FB6BERWPEIJP|          4|           40|         43|   N|                Y|\n",
            "|R1D4Z38STRDQXK|          5|           53|         56|   N|                Y|\n",
            "|R1XMWJZICINIFX|          3|           20|         21|   N|                Y|\n",
            "|R20QKY1GABXFLM|          1|          272|        297|   N|                Y|\n",
            "|R328FA1E6FY3F5|          5|           17|         20|   N|                N|\n",
            "|R3DH22AA5WGLLS|          5|           30|         30|   N|                N|\n",
            "|R1E0E5EFZSLJCS|          1|           66|         80|   N|                Y|\n",
            "|R1TXZQWEHYWEWN|          2|           48|         51|   N|                Y|\n",
            "| RQQAI8YL3UCY2|          5|           23|         25|   N|                Y|\n",
            "|R3PZNAQREFUNJ7|          4|           28|         35|   N|                Y|\n",
            "|R1ZUNUSUEA5D0T|          2|           17|         20|   N|                Y|\n",
            "|R3SHJSHTY8AXKR|          5|           69|         72|   N|                Y|\n",
            "|R2QM1JXA2XI7XA|          3|           61|         68|   N|                Y|\n",
            "|R1SVJ6XDBCQNSN|          3|           29|         30|   N|                Y|\n",
            "|R1IEABNX71GK3B|          1|           54|         58|   N|                N|\n",
            "|R16QL1GNQVT4G9|          5|          117|        119|   N|                Y|\n",
            "|R1MV4YDD6O5UME|          5|           30|         32|   N|                N|\n",
            "|R3A8EHXA0JX7WV|          5|           18|         24|   N|                N|\n",
            "|R2M7TEVV9YSLTR|          5|           94|         96|   N|                Y|\n",
            "+--------------+-----------+-------------+-----------+----+-----------------+\n",
            "only showing top 20 rows\n",
            "\n"
          ]
        }
      ]
    },
    {
      "cell_type": "code",
      "source": [
        "#import the count function\n",
        "from pyspark.sql.functions import count"
      ],
      "metadata": {
        "id": "ZEFtwhetpiV3"
      },
      "execution_count": 70,
      "outputs": []
    },
    {
      "cell_type": "code",
      "source": [
        "fiv=vine_no_df.filter(col(\"star_rating\")==5).count()"
      ],
      "metadata": {
        "id": "8RB659IVl6Cw"
      },
      "execution_count": 59,
      "outputs": []
    },
    {
      "cell_type": "code",
      "source": [
        "fiv"
      ],
      "metadata": {
        "colab": {
          "base_uri": "https://localhost:8080/"
        },
        "id": "34uiTjuJmQBg",
        "outputId": "aec0bbb7-7831-45ce-b983-133ce4f5744b"
      },
      "execution_count": 60,
      "outputs": [
        {
          "output_type": "execute_result",
          "data": {
            "text/plain": [
              "45858"
            ]
          },
          "metadata": {},
          "execution_count": 60
        }
      ]
    },
    {
      "cell_type": "code",
      "source": [
        "# Determine the total number of reviews\n",
        "total_review=vine_votes_greater_20_df.agg({'star_rating':'count'})\n",
        "total_review.show()"
      ],
      "metadata": {
        "colab": {
          "base_uri": "https://localhost:8080/"
        },
        "id": "8JNZzW7egKH7",
        "outputId": "eb6a3ede-9ec4-440f-819e-5456c442dc4a"
      },
      "execution_count": 63,
      "outputs": [
        {
          "output_type": "stream",
          "name": "stdout",
          "text": [
            "+------------------+\n",
            "|count(star_rating)|\n",
            "+------------------+\n",
            "|            107421|\n",
            "+------------------+\n",
            "\n"
          ]
        }
      ]
    },
    {
      "cell_type": "code",
      "source": [
        "# Determine the total number of 5 star reviews\n",
        "total_five_star_review =vine_votes_greater_20_df.filter(col(\"star_rating\")==5).count()"
      ],
      "metadata": {
        "id": "dUPtKBZEn8IX"
      },
      "execution_count": 64,
      "outputs": []
    },
    {
      "cell_type": "code",
      "source": [
        "# Determine the total number of 5 star reviews\n",
        "total_five_star_review"
      ],
      "metadata": {
        "colab": {
          "base_uri": "https://localhost:8080/"
        },
        "id": "BHsRzUThoBgO",
        "outputId": "8643f0d3-3969-4342-ea04-898f642feb04"
      },
      "execution_count": 65,
      "outputs": [
        {
          "output_type": "execute_result",
          "data": {
            "text/plain": [
              "47059"
            ]
          },
          "metadata": {},
          "execution_count": 65
        }
      ]
    },
    {
      "cell_type": "code",
      "source": [
        "paid_5star_review= star_review.filter(col(\"verified_purchase\")=='Y').count()\n",
        "unpaid_5star_review=star_review.filter(col(\"verified_purchase\")=='N').count()"
      ],
      "metadata": {
        "id": "Bq3hjPs4oc3X"
      },
      "execution_count": null,
      "outputs": []
    },
    {
      "cell_type": "code",
      "source": [
        "# Filter total number of 5 star reviews for paid and unpaid purchases\n",
        "star_review=vine_votes_greater_20_df.filter(col(\"star_rating\")=='5')\n",
        "star_review.show()"
      ],
      "metadata": {
        "colab": {
          "base_uri": "https://localhost:8080/"
        },
        "id": "OVE4uougg7t8",
        "outputId": "b92fd8b7-e3c7-4c1f-eb9b-0e95d50b0c7f"
      },
      "execution_count": 66,
      "outputs": [
        {
          "output_type": "stream",
          "name": "stdout",
          "text": [
            "+--------------+-----------+-------------+-----------+----+-----------------+\n",
            "|     review_id|star_rating|helpful_votes|total_votes|vine|verified_purchase|\n",
            "+--------------+-----------+-------------+-----------+----+-----------------+\n",
            "|R28RB82UG4RDD5|          5|           20|         20|   N|                Y|\n",
            "|R1D4Z38STRDQXK|          5|           53|         56|   N|                Y|\n",
            "|R328FA1E6FY3F5|          5|           17|         20|   N|                N|\n",
            "|R3DH22AA5WGLLS|          5|           30|         30|   N|                N|\n",
            "| RQQAI8YL3UCY2|          5|           23|         25|   N|                Y|\n",
            "|R3SHJSHTY8AXKR|          5|           69|         72|   N|                Y|\n",
            "|R16QL1GNQVT4G9|          5|          117|        119|   N|                Y|\n",
            "|R1MV4YDD6O5UME|          5|           30|         32|   N|                N|\n",
            "|R3A8EHXA0JX7WV|          5|           18|         24|   N|                N|\n",
            "|R2M7TEVV9YSLTR|          5|           94|         96|   N|                Y|\n",
            "|R3BAP1S0295WA4|          5|          248|        259|   N|                N|\n",
            "| RUDQ2KHBY4I5O|          5|           66|         69|   N|                Y|\n",
            "|R241UWB9DHBSK0|          5|           18|         28|   N|                Y|\n",
            "| RU1J46UT6V0JD|          5|           25|         29|   N|                N|\n",
            "|R3UPJ5Y3F10891|          5|           45|         49|   N|                Y|\n",
            "| RUOS97BPV7QDT|          5|           34|         37|   N|                Y|\n",
            "|R2OPPUYNVUC8LK|          5|           58|         59|   N|                Y|\n",
            "|R3HGI0GZ00RXYB|          5|           70|         71|   N|                Y|\n",
            "|R2F9J2XKTN8DGU|          5|          294|        304|   N|                Y|\n",
            "|R3CPDG063VULZT|          5|           31|         37|   N|                N|\n",
            "+--------------+-----------+-------------+-----------+----+-----------------+\n",
            "only showing top 20 rows\n",
            "\n"
          ]
        }
      ]
    },
    {
      "cell_type": "code",
      "source": [
        "# Count the number of 5 star rating for paid and unpaid review\n",
        "paid_5star_review= star_review.filter(col(\"verified_purchase\")=='Y').count()\n",
        "unpaid_5star_review=star_review.filter(col(\"verified_purchase\")=='N').count()"
      ],
      "metadata": {
        "id": "4M5jGjIVotO4"
      },
      "execution_count": 71,
      "outputs": []
    },
    {
      "cell_type": "code",
      "source": [
        "# percentage of 5-star reviews for the paid review \n",
        "paid_review_percentage = (paid_5star_review/total_five_star_review)*100\n",
        "paid_review_percentage"
      ],
      "metadata": {
        "colab": {
          "base_uri": "https://localhost:8080/"
        },
        "id": "D4UQRaH0o_s2",
        "outputId": "5567a532-82be-43c7-92eb-897bf1cfb903"
      },
      "execution_count": 68,
      "outputs": [
        {
          "output_type": "execute_result",
          "data": {
            "text/plain": [
              "56.968911366582375"
            ]
          },
          "metadata": {},
          "execution_count": 68
        }
      ]
    },
    {
      "cell_type": "code",
      "source": [
        "# percentage of 5-star reviews for the unpaid review \n",
        "unpaid_review_percentage = (unpaid_5star_review/total_five_star_review)*100\n",
        "unpaid_review_percentage"
      ],
      "metadata": {
        "colab": {
          "base_uri": "https://localhost:8080/"
        },
        "id": "yqJLOy2jpIH7",
        "outputId": "726431a0-86aa-4756-9af8-946c7c11470f"
      },
      "execution_count": 69,
      "outputs": [
        {
          "output_type": "execute_result",
          "data": {
            "text/plain": [
              "43.031088633417625"
            ]
          },
          "metadata": {},
          "execution_count": 69
        }
      ]
    }
  ]
}